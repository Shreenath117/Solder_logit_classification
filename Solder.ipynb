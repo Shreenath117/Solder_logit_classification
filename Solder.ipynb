{
 "cells": [
  {
   "cell_type": "markdown",
   "metadata": {},
   "source": [
    "# Answer to Question 1 :\n",
    "Reading the csv file using pandas and storing it in a dataframe"
   ]
  },
  {
   "cell_type": "code",
   "execution_count": 10,
   "metadata": {},
   "outputs": [],
   "source": [
    "import pandas as pd\n",
    "from matplotlib import pyplot as plt\n",
    "data = pd.read_csv(\"solder.csv\", header=0, infer_datetime_format=True, parse_dates=[0], index_col=[0])"
   ]
  },
  {
   "cell_type": "code",
   "execution_count": 11,
   "metadata": {},
   "outputs": [
    {
     "data": {
      "text/plain": [
       "(900, 6)"
      ]
     },
     "execution_count": 11,
     "metadata": {},
     "output_type": "execute_result"
    }
   ],
   "source": [
    "# Checking the shape of the data (dimensions)\n",
    "data.shape\n",
    "\n",
    "# 900 rows and 6 columns"
   ]
  },
  {
   "cell_type": "code",
   "execution_count": 12,
   "metadata": {},
   "outputs": [
    {
     "data": {
      "text/html": [
       "<div>\n",
       "<style scoped>\n",
       "    .dataframe tbody tr th:only-of-type {\n",
       "        vertical-align: middle;\n",
       "    }\n",
       "\n",
       "    .dataframe tbody tr th {\n",
       "        vertical-align: top;\n",
       "    }\n",
       "\n",
       "    .dataframe thead th {\n",
       "        text-align: right;\n",
       "    }\n",
       "</style>\n",
       "<table border=\"1\" class=\"dataframe\">\n",
       "  <thead>\n",
       "    <tr style=\"text-align: right;\">\n",
       "      <th></th>\n",
       "      <th>Opening</th>\n",
       "      <th>Solder</th>\n",
       "      <th>Mask</th>\n",
       "      <th>PadType</th>\n",
       "      <th>Panel</th>\n",
       "      <th>skips</th>\n",
       "    </tr>\n",
       "  </thead>\n",
       "  <tbody>\n",
       "    <tr>\n",
       "      <td>1</td>\n",
       "      <td>L</td>\n",
       "      <td>Thick</td>\n",
       "      <td>A1.5</td>\n",
       "      <td>W4</td>\n",
       "      <td>1</td>\n",
       "      <td>0</td>\n",
       "    </tr>\n",
       "    <tr>\n",
       "      <td>2</td>\n",
       "      <td>L</td>\n",
       "      <td>Thick</td>\n",
       "      <td>A1.5</td>\n",
       "      <td>W4</td>\n",
       "      <td>2</td>\n",
       "      <td>0</td>\n",
       "    </tr>\n",
       "    <tr>\n",
       "      <td>3</td>\n",
       "      <td>L</td>\n",
       "      <td>Thick</td>\n",
       "      <td>A1.5</td>\n",
       "      <td>W4</td>\n",
       "      <td>3</td>\n",
       "      <td>0</td>\n",
       "    </tr>\n",
       "    <tr>\n",
       "      <td>4</td>\n",
       "      <td>L</td>\n",
       "      <td>Thick</td>\n",
       "      <td>A1.5</td>\n",
       "      <td>D4</td>\n",
       "      <td>1</td>\n",
       "      <td>0</td>\n",
       "    </tr>\n",
       "    <tr>\n",
       "      <td>5</td>\n",
       "      <td>L</td>\n",
       "      <td>Thick</td>\n",
       "      <td>A1.5</td>\n",
       "      <td>D4</td>\n",
       "      <td>2</td>\n",
       "      <td>0</td>\n",
       "    </tr>\n",
       "  </tbody>\n",
       "</table>\n",
       "</div>"
      ],
      "text/plain": [
       "  Opening Solder  Mask PadType  Panel  skips\n",
       "1       L  Thick  A1.5      W4      1      0\n",
       "2       L  Thick  A1.5      W4      2      0\n",
       "3       L  Thick  A1.5      W4      3      0\n",
       "4       L  Thick  A1.5      D4      1      0\n",
       "5       L  Thick  A1.5      D4      2      0"
      ]
     },
     "execution_count": 12,
     "metadata": {},
     "output_type": "execute_result"
    }
   ],
   "source": [
    "data.head()"
   ]
  },
  {
   "cell_type": "markdown",
   "metadata": {},
   "source": [
    "# Answer to Question 2 :"
   ]
  },
  {
   "cell_type": "markdown",
   "metadata": {},
   "source": [
    "The key objective of the case study is to model/predict the \"number\" of visible solder skips using the predictor variables given in the dataset\n",
    "\n",
    "The response variable : skips as we see is a \"count\" variable "
   ]
  },
  {
   "cell_type": "markdown",
   "metadata": {},
   "source": [
    "# Answer to Question 3 :"
   ]
  },
  {
   "cell_type": "code",
   "execution_count": 13,
   "metadata": {},
   "outputs": [
    {
     "data": {
      "text/html": [
       "<div>\n",
       "<style scoped>\n",
       "    .dataframe tbody tr th:only-of-type {\n",
       "        vertical-align: middle;\n",
       "    }\n",
       "\n",
       "    .dataframe tbody tr th {\n",
       "        vertical-align: top;\n",
       "    }\n",
       "\n",
       "    .dataframe thead th {\n",
       "        text-align: right;\n",
       "    }\n",
       "</style>\n",
       "<table border=\"1\" class=\"dataframe\">\n",
       "  <thead>\n",
       "    <tr style=\"text-align: right;\">\n",
       "      <th></th>\n",
       "      <th>0</th>\n",
       "    </tr>\n",
       "  </thead>\n",
       "  <tbody>\n",
       "    <tr>\n",
       "      <td>Mean</td>\n",
       "      <td>5.530000</td>\n",
       "    </tr>\n",
       "    <tr>\n",
       "      <td>Variance</td>\n",
       "      <td>71.352825</td>\n",
       "    </tr>\n",
       "    <tr>\n",
       "      <td>Ratio</td>\n",
       "      <td>12.902862</td>\n",
       "    </tr>\n",
       "  </tbody>\n",
       "</table>\n",
       "</div>"
      ],
      "text/plain": [
       "                  0\n",
       "Mean       5.530000\n",
       "Variance  71.352825\n",
       "Ratio     12.902862"
      ]
     },
     "execution_count": 13,
     "metadata": {},
     "output_type": "execute_result"
    }
   ],
   "source": [
    "pd.DataFrame([data[\"skips\"].mean(), data[\"skips\"].var(), data[\"skips\"].var()/data[\"skips\"].mean()], index=['Mean','Variance','Ratio'])"
   ]
  },
  {
   "cell_type": "markdown",
   "metadata": {},
   "source": [
    "Observations :\n",
    "The mean number of solder visible skips is 5.53 and the variance is 71.35 (12.9 times the mean)\n",
    "The data is clearly over-dispersed"
   ]
  },
  {
   "cell_type": "markdown",
   "metadata": {},
   "source": [
    "# Answer to Question 4 :\n",
    "\n",
    "Summarising the dataset provided"
   ]
  },
  {
   "cell_type": "code",
   "execution_count": 14,
   "metadata": {},
   "outputs": [
    {
     "data": {
      "text/html": [
       "<div>\n",
       "<style scoped>\n",
       "    .dataframe tbody tr th:only-of-type {\n",
       "        vertical-align: middle;\n",
       "    }\n",
       "\n",
       "    .dataframe tbody tr th {\n",
       "        vertical-align: top;\n",
       "    }\n",
       "\n",
       "    .dataframe thead th {\n",
       "        text-align: right;\n",
       "    }\n",
       "</style>\n",
       "<table border=\"1\" class=\"dataframe\">\n",
       "  <thead>\n",
       "    <tr style=\"text-align: right;\">\n",
       "      <th></th>\n",
       "      <th>Panel</th>\n",
       "      <th>skips</th>\n",
       "    </tr>\n",
       "  </thead>\n",
       "  <tbody>\n",
       "    <tr>\n",
       "      <td>count</td>\n",
       "      <td>900.000000</td>\n",
       "      <td>900.00000</td>\n",
       "    </tr>\n",
       "    <tr>\n",
       "      <td>mean</td>\n",
       "      <td>2.000000</td>\n",
       "      <td>5.53000</td>\n",
       "    </tr>\n",
       "    <tr>\n",
       "      <td>std</td>\n",
       "      <td>0.816951</td>\n",
       "      <td>8.44706</td>\n",
       "    </tr>\n",
       "    <tr>\n",
       "      <td>min</td>\n",
       "      <td>1.000000</td>\n",
       "      <td>0.00000</td>\n",
       "    </tr>\n",
       "    <tr>\n",
       "      <td>25%</td>\n",
       "      <td>1.000000</td>\n",
       "      <td>0.00000</td>\n",
       "    </tr>\n",
       "    <tr>\n",
       "      <td>50%</td>\n",
       "      <td>2.000000</td>\n",
       "      <td>2.00000</td>\n",
       "    </tr>\n",
       "    <tr>\n",
       "      <td>75%</td>\n",
       "      <td>3.000000</td>\n",
       "      <td>7.00000</td>\n",
       "    </tr>\n",
       "    <tr>\n",
       "      <td>max</td>\n",
       "      <td>3.000000</td>\n",
       "      <td>48.00000</td>\n",
       "    </tr>\n",
       "  </tbody>\n",
       "</table>\n",
       "</div>"
      ],
      "text/plain": [
       "            Panel      skips\n",
       "count  900.000000  900.00000\n",
       "mean     2.000000    5.53000\n",
       "std      0.816951    8.44706\n",
       "min      1.000000    0.00000\n",
       "25%      1.000000    0.00000\n",
       "50%      2.000000    2.00000\n",
       "75%      3.000000    7.00000\n",
       "max      3.000000   48.00000"
      ]
     },
     "execution_count": 14,
     "metadata": {},
     "output_type": "execute_result"
    }
   ],
   "source": [
    "data.describe()"
   ]
  },
  {
   "cell_type": "code",
   "execution_count": 15,
   "metadata": {},
   "outputs": [
    {
     "data": {
      "text/html": [
       "<div>\n",
       "<style scoped>\n",
       "    .dataframe tbody tr th:only-of-type {\n",
       "        vertical-align: middle;\n",
       "    }\n",
       "\n",
       "    .dataframe tbody tr th {\n",
       "        vertical-align: top;\n",
       "    }\n",
       "\n",
       "    .dataframe thead th {\n",
       "        text-align: right;\n",
       "    }\n",
       "</style>\n",
       "<table border=\"1\" class=\"dataframe\">\n",
       "  <thead>\n",
       "    <tr style=\"text-align: right;\">\n",
       "      <th></th>\n",
       "      <th>Opening</th>\n",
       "      <th>Solder</th>\n",
       "      <th>Mask</th>\n",
       "      <th>PadType</th>\n",
       "    </tr>\n",
       "  </thead>\n",
       "  <tbody>\n",
       "    <tr>\n",
       "      <td>count</td>\n",
       "      <td>900</td>\n",
       "      <td>900</td>\n",
       "      <td>900</td>\n",
       "      <td>900</td>\n",
       "    </tr>\n",
       "    <tr>\n",
       "      <td>unique</td>\n",
       "      <td>3</td>\n",
       "      <td>2</td>\n",
       "      <td>5</td>\n",
       "      <td>10</td>\n",
       "    </tr>\n",
       "    <tr>\n",
       "      <td>top</td>\n",
       "      <td>L</td>\n",
       "      <td>Thick</td>\n",
       "      <td>A3</td>\n",
       "      <td>W4</td>\n",
       "    </tr>\n",
       "    <tr>\n",
       "      <td>freq</td>\n",
       "      <td>300</td>\n",
       "      <td>450</td>\n",
       "      <td>270</td>\n",
       "      <td>90</td>\n",
       "    </tr>\n",
       "  </tbody>\n",
       "</table>\n",
       "</div>"
      ],
      "text/plain": [
       "       Opening Solder Mask PadType\n",
       "count      900    900  900     900\n",
       "unique       3      2    5      10\n",
       "top          L  Thick   A3      W4\n",
       "freq       300    450  270      90"
      ]
     },
     "execution_count": 15,
     "metadata": {},
     "output_type": "execute_result"
    }
   ],
   "source": [
    "data.describe(include = ['O'])"
   ]
  },
  {
   "cell_type": "markdown",
   "metadata": {},
   "source": [
    "Observations :\n",
    "a) Opening with factor levels :  L.M and S : Equally shared with 300 observations\n",
    "b) Solder with factor levels : Thick & Thin are also equally shared in the data with 450 observations\n",
    "c) Pad Type with factor levels : D4,D6,D7,L4,L6 & L7 have 90 each and (Other) has 360\n",
    "d) Skips variable has max value of 48 and a median of 2"
   ]
  },
  {
   "cell_type": "markdown",
   "metadata": {},
   "source": [
    "# Answer to Question 5 :\n",
    "\n",
    "Plotting a histogram"
   ]
  },
  {
   "cell_type": "code",
   "execution_count": 16,
   "metadata": {},
   "outputs": [
    {
     "data": {
      "image/png": "[encoded data removed]",
      "text/plain": [
       "<Figure size 432x288 with 1 Axes>"
      ]
     },
     "metadata": {
      "needs_background": "light"
     },
     "output_type": "display_data"
    }
   ],
   "source": [
    "plt.hist(data[\"skips\"], bins = 50)\n",
    "plt.show()"
   ]
  },
  {
   "cell_type": "markdown",
   "metadata": {},
   "source": [
    "Observations :\n",
    "a) The distribution here clearly looks like a Poisson Distribution\n",
    "b) It looks clumped at 0 (total zeroes : 285 out of 900 overall)\n",
    "c) Histogram indicates that this dataset has abundance of zeroes"
   ]
  },
  {
   "cell_type": "markdown",
   "metadata": {},
   "source": [
    "# Answer to Question 6 :\n",
    "Creating frequency tables(crosstabs) for the response variable 'Skips'"
   ]
  },
  {
   "cell_type": "code",
   "execution_count": null,
   "metadata": {},
   "outputs": [],
   "source": [
    "my_tab = pd.crosstab(index=data[\"skips\"], columns=\"count\") # Name the count column\n",
    "my_tab"
   ]
  },
  {
   "cell_type": "markdown",
   "metadata": {},
   "source": [
    "# Answer to Question 7 :"
   ]
  },
  {
   "cell_type": "code",
   "execution_count": null,
   "metadata": {},
   "outputs": [],
   "source": [
    "# We have seen that the response variable \"skips\" is clearly a count variable.\n",
    "# The distribution as we clearly see isn't normal which the implementation of linear regression model assumptions require.\n",
    "# The count data does not follow a normal distribution, because it simply can not and \n",
    "# hence, simple linear regression is not the way to go. \n",
    "# Hence, we go for Poisson , Negative Binomial models for count variables."
   ]
  },
  {
   "cell_type": "markdown",
   "metadata": {},
   "source": [
    "# Answer to Question 8 :"
   ]
  },
  {
   "cell_type": "code",
   "execution_count": 18,
   "metadata": {},
   "outputs": [
    {
     "name": "stdout",
     "output_type": "stream",
     "text": [
      "Opening    object\n",
      "Solder     object\n",
      "Mask       object\n",
      "PadType    object\n",
      "Panel       int64\n",
      "skips       int64\n",
      "dtype: object\n"
     ]
    }
   ],
   "source": [
    "# Check datatypes of all variables in the given dataset\n",
    "print(data.dtypes)"
   ]
  },
  {
   "cell_type": "code",
   "execution_count": 21,
   "metadata": {},
   "outputs": [
    {
     "data": {
      "text/plain": [
       "<matplotlib.axes._subplots.AxesSubplot at 0x2818729e8c8>"
      ]
     },
     "execution_count": 21,
     "metadata": {},
     "output_type": "execute_result"
    },
    {
     "data": {
      "image/png": "[encoded data removed]",
      "text/plain": [
       "<Figure size 432x288 with 1 Axes>"
      ]
     },
     "metadata": {
      "needs_background": "light"
     },
     "output_type": "display_data"
    }
   ],
   "source": [
    "#Boxplot grouped by mask with respect to the response variable skips\n",
    "\n",
    "data.boxplot(by ='Opening', column =['skips'], grid = False) "
   ]
  },
  {
   "cell_type": "markdown",
   "metadata": {},
   "source": [
    "Observations :\n",
    "It can be seen that the distribution for Opening : L and M are quite similar, except that for the S . \n",
    "S has a migher median compared to L & M\n",
    "Also :  there are few observations as potential outliers amongst all 3 openings"
   ]
  },
  {
   "cell_type": "markdown",
   "metadata": {},
   "source": [
    "# Answer to Question 9 :"
   ]
  },
  {
   "cell_type": "code",
   "execution_count": 26,
   "metadata": {},
   "outputs": [
    {
     "data": {
      "text/html": [
       "<div>\n",
       "<style scoped>\n",
       "    .dataframe tbody tr th:only-of-type {\n",
       "        vertical-align: middle;\n",
       "    }\n",
       "\n",
       "    .dataframe tbody tr th {\n",
       "        vertical-align: top;\n",
       "    }\n",
       "\n",
       "    .dataframe thead th {\n",
       "        text-align: right;\n",
       "    }\n",
       "</style>\n",
       "<table border=\"1\" class=\"dataframe\">\n",
       "  <thead>\n",
       "    <tr style=\"text-align: right;\">\n",
       "      <th>Solder</th>\n",
       "      <th>Thick</th>\n",
       "      <th>Thin</th>\n",
       "    </tr>\n",
       "    <tr>\n",
       "      <th>Mask</th>\n",
       "      <th></th>\n",
       "      <th></th>\n",
       "    </tr>\n",
       "  </thead>\n",
       "  <tbody>\n",
       "    <tr>\n",
       "      <td>A1.5</td>\n",
       "      <td>90</td>\n",
       "      <td>90</td>\n",
       "    </tr>\n",
       "    <tr>\n",
       "      <td>A3</td>\n",
       "      <td>150</td>\n",
       "      <td>120</td>\n",
       "    </tr>\n",
       "    <tr>\n",
       "      <td>A6</td>\n",
       "      <td>30</td>\n",
       "      <td>60</td>\n",
       "    </tr>\n",
       "    <tr>\n",
       "      <td>B3</td>\n",
       "      <td>90</td>\n",
       "      <td>90</td>\n",
       "    </tr>\n",
       "    <tr>\n",
       "      <td>B6</td>\n",
       "      <td>90</td>\n",
       "      <td>90</td>\n",
       "    </tr>\n",
       "  </tbody>\n",
       "</table>\n",
       "</div>"
      ],
      "text/plain": [
       "Solder  Thick  Thin\n",
       "Mask               \n",
       "A1.5       90    90\n",
       "A3        150   120\n",
       "A6         30    60\n",
       "B3         90    90\n",
       "B6         90    90"
      ]
     },
     "execution_count": 26,
     "metadata": {},
     "output_type": "execute_result"
    }
   ],
   "source": [
    "solder_mask = pd.crosstab(index=data[\"Mask\"], \n",
    "                           columns=data[\"Solder\"])\n",
    "\n",
    "solder_mask"
   ]
  },
  {
   "cell_type": "markdown",
   "metadata": {},
   "source": [
    "# Answer to Question 10:"
   ]
  },
  {
   "cell_type": "code",
   "execution_count": 27,
   "metadata": {},
   "outputs": [
    {
     "data": {
      "text/plain": [
       "<matplotlib.axes._subplots.AxesSubplot at 0x2818748bf88>"
      ]
     },
     "execution_count": 27,
     "metadata": {},
     "output_type": "execute_result"
    },
    {
     "data": {
      "image/png": "[encoded data removed]",
      "text/plain": [
       "<Figure size 576x576 with 1 Axes>"
      ]
     },
     "metadata": {
      "needs_background": "light"
     },
     "output_type": "display_data"
    }
   ],
   "source": [
    "solder_mask.plot(kind=\"bar\", \n",
    "                 figsize=(8,8),\n",
    "                 stacked=False)"
   ]
  },
  {
   "cell_type": "markdown",
   "metadata": {},
   "source": [
    "Observations:\n",
    "a) Clearly seen : Thick is the most prominent for A3 mask\n",
    "b) Thin is the most prominent for A6 mask"
   ]
  },
  {
   "cell_type": "markdown",
   "metadata": {},
   "source": [
    "# Answer to Question 11 :"
   ]
  },
  {
   "cell_type": "markdown",
   "metadata": {},
   "source": [
    "Fitting a Poisson Model\n",
    "GLM with poisson in Python"
   ]
  },
  {
   "cell_type": "code",
   "execution_count": 28,
   "metadata": {},
   "outputs": [],
   "source": [
    "import statsmodels.api as sm\n",
    "from statsmodels.formula.api import glm"
   ]
  },
  {
   "cell_type": "code",
   "execution_count": 31,
   "metadata": {},
   "outputs": [
    {
     "name": "stdout",
     "output_type": "stream",
     "text": [
      "                 Generalized Linear Model Regression Results                  \n",
      "==============================================================================\n",
      "Dep. Variable:                  skips   No. Observations:                  900\n",
      "Model:                            GLM   Df Residuals:                      882\n",
      "Model Family:                 Poisson   Df Model:                           17\n",
      "Link Function:                    log   Scale:                          1.0000\n",
      "Method:                          IRLS   Log-Likelihood:                -1965.8\n",
      "Date:                Mon, 06 Apr 2020   Deviance:                       1829.0\n",
      "Time:                        09:27:41   Pearson chi2:                 1.78e+03\n",
      "No. Iterations:                     6                                         \n",
      "Covariance Type:            nonrobust                                         \n",
      "==================================================================================\n",
      "                     coef    std err          z      P>|z|      [0.025      0.975]\n",
      "----------------------------------------------------------------------------------\n",
      "Intercept         -1.1004      0.093    -11.874      0.000      -1.282      -0.919\n",
      "Opening[T.M]       0.5716      0.057     10.017      0.000       0.460       0.683\n",
      "Opening[T.S]       1.8148      0.050     35.980      0.000       1.716       1.914\n",
      "Solder[T.Thin]     0.8468      0.033     25.453      0.000       0.782       0.912\n",
      "Mask[T.A3]         0.5132      0.071      7.230      0.000       0.374       0.652\n",
      "Mask[T.A6]         1.8110      0.066     27.404      0.000       1.682       1.941\n",
      "Mask[T.B3]         1.2022      0.067     17.953      0.000       1.071       1.333\n",
      "Mask[T.B6]         1.8665      0.063     29.580      0.000       1.743       1.990\n",
      "PadType[T.D6]     -0.4033      0.060     -6.690      0.000      -0.521      -0.285\n",
      "PadType[T.D7]     -0.0898      0.055     -1.626      0.104      -0.198       0.018\n",
      "PadType[T.L4]      0.2246      0.051      4.389      0.000       0.124       0.325\n",
      "PadType[T.L6]     -0.7063      0.066    -10.642      0.000      -0.836      -0.576\n",
      "PadType[T.L7]     -0.4826      0.062     -7.814      0.000      -0.604      -0.362\n",
      "PadType[T.L8]     -0.3078      0.059     -5.251      0.000      -0.423      -0.193\n",
      "PadType[T.L9]     -0.6379      0.065     -9.831      0.000      -0.765      -0.511\n",
      "PadType[T.W4]     -0.1902      0.057     -3.354      0.001      -0.301      -0.079\n",
      "PadType[T.W9]     -1.5625      0.092    -17.048      0.000      -1.742      -1.383\n",
      "Panel              0.1467      0.017      8.405      0.000       0.112       0.181\n",
      "==================================================================================\n"
     ]
    }
   ],
   "source": [
    "data_pois=glm('skips ~ Opening+Solder+Mask+PadType+Panel', data = data,\n",
    "family = sm.families.Poisson()).fit()\n",
    "print(data_pois.summary())"
   ]
  },
  {
   "cell_type": "markdown",
   "metadata": {},
   "source": [
    "Here : as we observe as per significance : all predictor variables are significant except \"PadTypeD7\" : higher  p-value"
   ]
  },
  {
   "cell_type": "markdown",
   "metadata": {},
   "source": [
    "# Answer to Question 12 :"
   ]
  },
  {
   "cell_type": "markdown",
   "metadata": {},
   "source": [
    "AIC stands for : Akaike Information Criterion or AIC is an alternative criterion for model selection and is based on log of maximum likelihood function under the assumed model when the model dimension is also unknown\n",
    "AIC does not provide a test for model fit but makes a statement about the relative quality of models and the model with smallest AIC is prefered."
   ]
  },
  {
   "cell_type": "markdown",
   "metadata": {},
   "source": [
    "# Answer to Question 13 :\n",
    "Outliers/Leverage/Influence Points"
   ]
  },
  {
   "cell_type": "code",
   "execution_count": 32,
   "metadata": {},
   "outputs": [
    {
     "data": {
      "image/png": "[encoded data removed]",
      "text/plain": [
       "<Figure size 432x288 with 1 Axes>"
      ]
     },
     "execution_count": 32,
     "metadata": {},
     "output_type": "execute_result"
    },
    {
     "data": {
      "image/png": "[encoded data removed]",
      "text/plain": [
       "<Figure size 432x288 with 1 Axes>"
      ]
     },
     "metadata": {
      "needs_background": "light"
     },
     "output_type": "display_data"
    }
   ],
   "source": [
    "infl = data_pois.get_influence(observed=False)\n",
    "infl.plot_influence()"
   ]
  },
  {
   "cell_type": "code",
   "execution_count": 33,
   "metadata": {},
   "outputs": [
    {
     "data": {
      "text/html": [
       "<div>\n",
       "<style scoped>\n",
       "    .dataframe tbody tr th:only-of-type {\n",
       "        vertical-align: middle;\n",
       "    }\n",
       "\n",
       "    .dataframe tbody tr th {\n",
       "        vertical-align: top;\n",
       "    }\n",
       "\n",
       "    .dataframe thead th {\n",
       "        text-align: right;\n",
       "    }\n",
       "</style>\n",
       "<table border=\"1\" class=\"dataframe\">\n",
       "  <thead>\n",
       "    <tr style=\"text-align: right;\">\n",
       "      <th></th>\n",
       "      <th>Opening</th>\n",
       "      <th>Solder</th>\n",
       "      <th>Mask</th>\n",
       "      <th>PadType</th>\n",
       "      <th>Panel</th>\n",
       "      <th>skips</th>\n",
       "    </tr>\n",
       "  </thead>\n",
       "  <tbody>\n",
       "    <tr>\n",
       "      <td>397</td>\n",
       "      <td>M</td>\n",
       "      <td>Thick</td>\n",
       "      <td>A6</td>\n",
       "      <td>L4</td>\n",
       "      <td>1</td>\n",
       "      <td>19</td>\n",
       "    </tr>\n",
       "    <tr>\n",
       "      <td>398</td>\n",
       "      <td>M</td>\n",
       "      <td>Thick</td>\n",
       "      <td>A6</td>\n",
       "      <td>L4</td>\n",
       "      <td>2</td>\n",
       "      <td>21</td>\n",
       "    </tr>\n",
       "    <tr>\n",
       "      <td>519</td>\n",
       "      <td>S</td>\n",
       "      <td>Thin</td>\n",
       "      <td>A6</td>\n",
       "      <td>L4</td>\n",
       "      <td>3</td>\n",
       "      <td>33</td>\n",
       "    </tr>\n",
       "    <tr>\n",
       "      <td>879</td>\n",
       "      <td>S</td>\n",
       "      <td>Thin</td>\n",
       "      <td>B6</td>\n",
       "      <td>L4</td>\n",
       "      <td>3</td>\n",
       "      <td>42</td>\n",
       "    </tr>\n",
       "    <tr>\n",
       "      <td>896</td>\n",
       "      <td>S</td>\n",
       "      <td>Thin</td>\n",
       "      <td>B6</td>\n",
       "      <td>W9</td>\n",
       "      <td>2</td>\n",
       "      <td>21</td>\n",
       "    </tr>\n",
       "  </tbody>\n",
       "</table>\n",
       "</div>"
      ],
      "text/plain": [
       "    Opening Solder Mask PadType  Panel  skips\n",
       "397       M  Thick   A6      L4      1     19\n",
       "398       M  Thick   A6      L4      2     21\n",
       "519       S   Thin   A6      L4      3     33\n",
       "879       S   Thin   B6      L4      3     42\n",
       "896       S   Thin   B6      W9      2     21"
      ]
     },
     "execution_count": 33,
     "metadata": {},
     "output_type": "execute_result"
    }
   ],
   "source": [
    "# So data points : 896, 879, 519, 398 and 397 are at the extremes. \n",
    "# Let's check in the dataset\n",
    "\n",
    "data.loc[[397,398,519,879,896], :]"
   ]
  },
  {
   "cell_type": "markdown",
   "metadata": {},
   "source": [
    "Observations :\n",
    "a) Case 879: had the number of visible solder skips of 42 !\n",
    "b) Others: Number of visible solder skips >> predicted (because they have larger residuals as seen in graph)"
   ]
  },
  {
   "cell_type": "markdown",
   "metadata": {},
   "source": [
    "# Answer to Question 14 :\n",
    "Poisson Model goodness of fit"
   ]
  },
  {
   "cell_type": "code",
   "execution_count": 34,
   "metadata": {},
   "outputs": [
    {
     "name": "stdout",
     "output_type": "stream",
     "text": [
      "                 Generalized Linear Model Regression Results                  \n",
      "==============================================================================\n",
      "Dep. Variable:                  skips   No. Observations:                  900\n",
      "Model:                            GLM   Df Residuals:                      882\n",
      "Model Family:                 Poisson   Df Model:                           17\n",
      "Link Function:                    log   Scale:                          1.0000\n",
      "Method:                          IRLS   Log-Likelihood:                -1965.8\n",
      "Date:                Mon, 06 Apr 2020   Deviance:                       1829.0\n",
      "Time:                        09:30:56   Pearson chi2:                 1.78e+03\n",
      "No. Iterations:                     6                                         \n",
      "Covariance Type:            nonrobust                                         \n",
      "==================================================================================\n",
      "                     coef    std err          z      P>|z|      [0.025      0.975]\n",
      "----------------------------------------------------------------------------------\n",
      "Intercept         -1.1004      0.093    -11.874      0.000      -1.282      -0.919\n",
      "Opening[T.M]       0.5716      0.057     10.017      0.000       0.460       0.683\n",
      "Opening[T.S]       1.8148      0.050     35.980      0.000       1.716       1.914\n",
      "Solder[T.Thin]     0.8468      0.033     25.453      0.000       0.782       0.912\n",
      "Mask[T.A3]         0.5132      0.071      7.230      0.000       0.374       0.652\n",
      "Mask[T.A6]         1.8110      0.066     27.404      0.000       1.682       1.941\n",
      "Mask[T.B3]         1.2022      0.067     17.953      0.000       1.071       1.333\n",
      "Mask[T.B6]         1.8665      0.063     29.580      0.000       1.743       1.990\n",
      "PadType[T.D6]     -0.4033      0.060     -6.690      0.000      -0.521      -0.285\n",
      "PadType[T.D7]     -0.0898      0.055     -1.626      0.104      -0.198       0.018\n",
      "PadType[T.L4]      0.2246      0.051      4.389      0.000       0.124       0.325\n",
      "PadType[T.L6]     -0.7063      0.066    -10.642      0.000      -0.836      -0.576\n",
      "PadType[T.L7]     -0.4826      0.062     -7.814      0.000      -0.604      -0.362\n",
      "PadType[T.L8]     -0.3078      0.059     -5.251      0.000      -0.423      -0.193\n",
      "PadType[T.L9]     -0.6379      0.065     -9.831      0.000      -0.765      -0.511\n",
      "PadType[T.W4]     -0.1902      0.057     -3.354      0.001      -0.301      -0.079\n",
      "PadType[T.W9]     -1.5625      0.092    -17.048      0.000      -1.742      -1.383\n",
      "Panel              0.1467      0.017      8.405      0.000       0.112       0.181\n",
      "==================================================================================\n"
     ]
    }
   ],
   "source": [
    "print(data_pois.summary())\n",
    "# The output from summary(data.pois) above showed that the Poisson model fits quite badly. \n",
    "# The residual deviance is 1829 with 882 degrees of freedom\n",
    "\n",
    "# The residual deviance is way too higher than the residual degrees of freedom\n",
    "# If the asssumed model (Poisson) fits the data well, the residual deviance are expected to be \n",
    "# approximately equal to the residual degrees of freedom."
   ]
  },
  {
   "cell_type": "markdown",
   "metadata": {},
   "source": [
    "# Answer to Question 15 :\n",
    "Check overdispersion of data"
   ]
  },
  {
   "cell_type": "code",
   "execution_count": 35,
   "metadata": {},
   "outputs": [
    {
     "data": {
      "text/plain": [
       "2.022421896590704"
      ]
     },
     "execution_count": 35,
     "metadata": {},
     "output_type": "execute_result"
    }
   ],
   "source": [
    "# As, we clearly saw in answer 2:  Mean Count of visible solder skips = 5.53 which is almost \n",
    "# 12.9 times variance of the number/count of skips = 71.35 \n",
    "# Thus the data are highly over dispersed\n",
    "\n",
    "# Variance > Mean : Overdispersion\n",
    "\n",
    "# If the variance is equal to the mean, the dispersion statistic would equal one.\n",
    "# When the dispersion statistic is close to one, a Poisson model fits. \n",
    "# If it is larger than one, a negative binomial model fits better.\n",
    "\n",
    "# The existence of overdispersion leads to the requirement of alternative models that fit the data better.\n",
    "# Overdispersion is a common phenomenon with count data which is due to either excess of zeros or heterogeneity of population.\n",
    "\n",
    "\n",
    "#Overdisperson Test\n",
    "data_pois.pearson_chi2 / data_pois.df_resid\n",
    "#where .pearson_chi2 represents Pearson statistic and .df_resid represents the degrees of freedom of the residuals.\n",
    "\n",
    "#The value > 1 shows it is highly overdispersed and Poisson model is not a good fit for overdispersed data. Need to lookout for alternatives"
   ]
  },
  {
   "cell_type": "markdown",
   "metadata": {},
   "source": [
    "# Answer to Question 16 :\n",
    "Name the alternative model"
   ]
  },
  {
   "cell_type": "code",
   "execution_count": 19,
   "metadata": {},
   "outputs": [],
   "source": [
    "# Alternative model which you would use to take care of over-dispersion is : \n",
    "# \"Negative Binomial\" model\n",
    "\n",
    "# The negative-binomial model is a different generalization of the Poisson that allows for over-dispersion"
   ]
  },
  {
   "cell_type": "markdown",
   "metadata": {},
   "source": [
    "# Answer to Question 17 :\n",
    "Package to implement the alternative model"
   ]
  },
  {
   "cell_type": "code",
   "execution_count": 36,
   "metadata": {},
   "outputs": [],
   "source": [
    "import statsmodels.api as sm\n",
    "from statsmodels.formula.api import glm"
   ]
  },
  {
   "cell_type": "markdown",
   "metadata": {},
   "source": [
    "# Answer to Question 18 :\n",
    "Fitting the Alternative model (Negative Binomial)"
   ]
  },
  {
   "cell_type": "code",
   "execution_count": 37,
   "metadata": {},
   "outputs": [
    {
     "name": "stdout",
     "output_type": "stream",
     "text": [
      "                 Generalized Linear Model Regression Results                  \n",
      "==============================================================================\n",
      "Dep. Variable:                  skips   No. Observations:                  900\n",
      "Model:                            GLM   Df Residuals:                      882\n",
      "Model Family:        NegativeBinomial   Df Model:                           17\n",
      "Link Function:                    log   Scale:                          1.0000\n",
      "Method:                          IRLS   Log-Likelihood:                -1923.9\n",
      "Date:                Mon, 06 Apr 2020   Deviance:                       558.67\n",
      "Time:                        09:32:30   Pearson chi2:                     490.\n",
      "No. Iterations:                    12                                         \n",
      "Covariance Type:            nonrobust                                         \n",
      "==================================================================================\n",
      "                     coef    std err          z      P>|z|      [0.025      0.975]\n",
      "----------------------------------------------------------------------------------\n",
      "Intercept         -1.6993      0.219     -7.758      0.000      -2.129      -1.270\n",
      "Opening[T.M]       0.5085      0.118      4.311      0.000       0.277       0.740\n",
      "Opening[T.S]       1.9997      0.108     18.480      0.000       1.788       2.212\n",
      "Solder[T.Thin]     1.0489      0.085     12.291      0.000       0.882       1.216\n",
      "Mask[T.A3]         0.6571      0.140      4.683      0.000       0.382       0.932\n",
      "Mask[T.A6]         2.5265      0.163     15.541      0.000       2.208       2.845\n",
      "Mask[T.B3]         1.2726      0.145      8.803      0.000       0.989       1.556\n",
      "Mask[T.B6]         2.0803      0.141     14.798      0.000       1.805       2.356\n",
      "PadType[T.D6]     -0.4612      0.185     -2.494      0.013      -0.824      -0.099\n",
      "PadType[T.D7]      0.0161      0.179      0.090      0.928      -0.335       0.367\n",
      "PadType[T.L4]      0.4688      0.175      2.680      0.007       0.126       0.812\n",
      "PadType[T.L6]     -0.4711      0.185     -2.546      0.011      -0.834      -0.108\n",
      "PadType[T.L7]     -0.2949      0.183     -1.615      0.106      -0.653       0.063\n",
      "PadType[T.L8]     -0.0849      0.180     -0.471      0.637      -0.438       0.268\n",
      "PadType[T.L9]     -0.5212      0.186     -2.806      0.005      -0.885      -0.157\n",
      "PadType[T.W4]     -0.1425      0.181     -0.788      0.431      -0.497       0.212\n",
      "PadType[T.W9]     -1.4836      0.205     -7.223      0.000      -1.886      -1.081\n",
      "Panel              0.1693      0.051      3.313      0.001       0.069       0.269\n",
      "==================================================================================\n"
     ]
    }
   ],
   "source": [
    "data_nbin=glm('skips ~ Opening+Solder+Mask+PadType+Panel', data = data,\n",
    "family = sm.families.NegativeBinomial(alpha=1)).fit()\n",
    "print(data_nbin.summary())"
   ]
  },
  {
   "cell_type": "markdown",
   "metadata": {},
   "source": [
    "# Answer to Question 19 :\n",
    "Poisson vs. Alternative model (Negative Binomial)"
   ]
  },
  {
   "cell_type": "code",
   "execution_count": 38,
   "metadata": {},
   "outputs": [],
   "source": [
    "# Observations: (Negative Binomial Model)\n",
    "# Comparing Log-Lokelihood for both the models and as we the residual deviance from degrees of freedom\n",
    "# Much better model as compared to the Poisson\n",
    "# Here : it's clearly observed : NB model performs better than Poisson due to over dispersion\n",
    "# and is a good fit (Residual deviance is closer to the residual degrees of freedom)"
   ]
  },
  {
   "cell_type": "markdown",
   "metadata": {},
   "source": [
    "# Answer to Question 20 :\n",
    "Zero Inflated and Hurdle Models"
   ]
  },
  {
   "cell_type": "code",
   "execution_count": 39,
   "metadata": {},
   "outputs": [],
   "source": [
    "# Zero Inflated & Hurdle Models\n",
    "\n",
    "# Hurdle models assume that there is only one process by which a zero can be produced, \n",
    "# while zero-inflated models assume that there are 2 different processes that can produce a zero.\n",
    "\n",
    "# Hurdle models assume 2 types of subjects: \n",
    "# (1) those who never experience the outcome and \n",
    "# (2) those who always experience the outcome at least once. \n",
    "\n",
    "# Zero-inflated models conceptualize subjects: \n",
    "# (1) those who never experience the outcome and \n",
    "# (2) those who can experience the outcome but don't always.\n",
    "\n",
    "# To implement in Python : we need to import from the below library :\n",
    "from statsmodels.discrete.discrete_model import (DiscreteModel, CountModel,\n",
    "                                                 Poisson, Logit, CountResults,\n",
    "                                                 L1CountResults, Probit,\n",
    "                                                 _discrete_results_docs,\n",
    "                                                 _validate_l1_method,\n",
    "                                                 GeneralizedPoisson,\n",
    "                                                 NegativeBinomialP)\n",
    "from statsmodels.distributions import zipoisson, zigenpoisson, zinegbin"
   ]
  }
 ],
 "metadata": {
  "kernelspec": {
   "display_name": "Python 3",
   "language": "python",
   "name": "python3"
  },
  "language_info": {
   "codemirror_mode": {
    "name": "ipython",
    "version": 3
   },
   "file_extension": ".py",
   "mimetype": "text/x-python",
   "name": "python",
   "nbconvert_exporter": "python",
   "pygments_lexer": "ipython3",
   "version": "3.7.4"
  }
 },
 "nbformat": 4,
 "nbformat_minor": 2
}
